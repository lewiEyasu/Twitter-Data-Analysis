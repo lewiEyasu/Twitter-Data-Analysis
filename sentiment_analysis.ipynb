{
 "cells": [
  {
   "cell_type": "code",
   "execution_count": 6,
   "metadata": {},
   "outputs": [],
   "source": [
    "import pandas as pd\n",
    "import re\n",
    "import nltk\n",
    "from nltk.corpus import stopwords\n"
   ]
  },
  {
   "cell_type": "code",
   "execution_count": null,
   "metadata": {},
   "outputs": [],
   "source": [
    "nltk.download('popular')"
   ]
  },
  {
   "cell_type": "code",
   "execution_count": 4,
   "metadata": {},
   "outputs": [
    {
     "data": {
      "text/plain": [
       "Index(['index', 'created_at', 'source', 'original_text', 'polarity',\n",
       "       'subjectivity', 'lang', 'favorite_count', 'retweet_count',\n",
       "       'original_author', 'followers_count', 'friends_count',\n",
       "       'possibly_sensitive', 'hashtags', 'user_mentions', 'place'],\n",
       "      dtype='object')"
      ]
     },
     "execution_count": 4,
     "metadata": {},
     "output_type": "execute_result"
    }
   ],
   "source": [
    "df = pd.read_csv(\"/home/levi/Desktop/10_academy/clean_twitter_data.csv\")\n",
    "df.columns"
   ]
  },
  {
   "cell_type": "code",
   "execution_count": 42,
   "metadata": {},
   "outputs": [
    {
     "data": {
      "text/plain": [
       "0    RT @i_ameztoy: Extra random image (I):\\n\\nLets...\n",
       "1    RT @IndoPac_Info: #China's media explains the ...\n",
       "2    China even cut off communication, they don't a...\n",
       "3    Putin to #XiJinping : I told you my friend, Ta...\n",
       "4    RT @ChinaUncensored: I’m sorry, I thought Taiw...\n",
       "Name: original_text, dtype: object"
      ]
     },
     "execution_count": 42,
     "metadata": {},
     "output_type": "execute_result"
    }
   ],
   "source": [
    "text_dataset = df['original_text']\n",
    "text_dataset.head()"
   ]
  },
  {
   "cell_type": "code",
   "execution_count": 40,
   "metadata": {},
   "outputs": [
    {
     "name": "stderr",
     "output_type": "stream",
     "text": [
      "<ipython-input-40-b735d0077722>:1: FutureWarning: The default value of regex will change from True to False in a future version.\n",
      "  text_dataset= text_dataset.str.replace('[^A-Za-z0-9\" \"]', '', flags=re.UNICODE)\n"
     ]
    },
    {
     "data": {
      "text/plain": [
       "0    RT iameztoy Extra random image ILets focus in ...\n",
       "1    RT IndoPacInfo Chinas media explains the milit...\n",
       "2    China even cut off communication they dont anw...\n",
       "3    Putin to XiJinping  I told you my friend Taiwa...\n",
       "4    RT ChinaUncensored Im sorry I thought Taiwan w...\n",
       "Name: original_text, dtype: object"
      ]
     },
     "execution_count": 40,
     "metadata": {},
     "output_type": "execute_result"
    }
   ],
   "source": [
    "text_dataset= text_dataset.str.replace('[^A-Za-z0-9\" \"]', '', flags=re.UNICODE)\n",
    "text_dataset.head()"
   ]
  },
  {
   "cell_type": "code",
   "execution_count": 47,
   "metadata": {},
   "outputs": [],
   "source": [
    "def remove_emoji(dataframe)->pd.DataFrame:\n",
    "    \n",
    "    temp = dataframe.str.replace('[^A-Za-z0-9\" \"]', '', flags=re.UNICODE)\n",
    "    \n",
    "    return temp  "
   ]
  },
  {
   "cell_type": "code",
   "execution_count": 48,
   "metadata": {},
   "outputs": [
    {
     "name": "stderr",
     "output_type": "stream",
     "text": [
      "<ipython-input-47-b7457ecf2742>:3: FutureWarning: The default value of regex will change from True to False in a future version.\n",
      "  temp = dataframe.str.replace('[^A-Za-z0-9\" \"]', '', flags=re.UNICODE)\n"
     ]
    },
    {
     "data": {
      "text/plain": [
       "0    RT iameztoy Extra random image ILets focus in ...\n",
       "1    RT IndoPacInfo Chinas media explains the milit...\n",
       "2    China even cut off communication they dont anw...\n",
       "3    Putin to XiJinping  I told you my friend Taiwa...\n",
       "4    RT ChinaUncensored Im sorry I thought Taiwan w...\n",
       "Name: original_text, dtype: object"
      ]
     },
     "execution_count": 48,
     "metadata": {},
     "output_type": "execute_result"
    }
   ],
   "source": [
    "text_dataset = remove_emoji(text_dataset)\n",
    "text_dataset.head()"
   ]
  },
  {
   "cell_type": "code",
   "execution_count": 50,
   "metadata": {},
   "outputs": [],
   "source": [
    "def stop_word(dataframe):\n",
    "    STOPWORDS = stopwords.words('english')\n",
    "    temp = []\n",
    "    for text in dataframe:\n",
    "        temp_ = \" \".join([word for word in str(text).split() if word not in STOPWORDS])\n",
    "        temp.append(temp_)\n"
   ]
  },
  {
   "cell_type": "code",
   "execution_count": null,
   "metadata": {},
   "outputs": [],
   "source": [
    "text_dataset = stop_word(text_dataset)\n",
    "text_dataset.head()"
   ]
  }
 ],
 "metadata": {
  "kernelspec": {
   "display_name": "Python 3",
   "language": "python",
   "name": "python3"
  },
  "language_info": {
   "codemirror_mode": {
    "name": "ipython",
    "version": 3
   },
   "file_extension": ".py",
   "mimetype": "text/x-python",
   "name": "python",
   "nbconvert_exporter": "python",
   "pygments_lexer": "ipython3",
   "version": "3.8.10"
  }
 },
 "nbformat": 4,
 "nbformat_minor": 4
}
